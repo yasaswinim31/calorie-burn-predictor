{
 "cells": [
  {
   "cell_type": "code",
   "execution_count": null,
   "id": "0a70f0d8-026d-45f9-ba7f-e3f9eb318059",
   "metadata": {},
   "outputs": [],
   "source": []
  }
 ],
 "metadata": {
  "kernelspec": {
   "display_name": "",
   "name": ""
  },
  "language_info": {
   "name": ""
  }
 },
 "nbformat": 4,
 "nbformat_minor": 5
}
