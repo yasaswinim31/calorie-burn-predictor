{
 "cells": [
  {
   "cell_type": "code",
   "execution_count": 11,
   "id": "362fe3b4-eb68-415f-8f79-387c579c0dff",
   "metadata": {},
   "outputs": [
    {
     "name": "stdout",
     "output_type": "stream",
     "text": [
      "   Gender  Age  Height  Weight  Duration  Heart_Rate  Body_Temp  Calories\n",
      "0  female   26     167      55        30          98       36.5       130\n",
      "1    male   28     175      70        45         102       37.1       250\n",
      "2  female   35     160      60        60         110       37.4       330\n",
      "3    male   42     180      85        20          88       36.7       170\n",
      "4  female   23     158      50        15          95       36.9       100\n",
      "<class 'pandas.core.frame.DataFrame'>\n",
      "RangeIndex: 20 entries, 0 to 19\n",
      "Data columns (total 8 columns):\n",
      " #   Column      Non-Null Count  Dtype  \n",
      "---  ------      --------------  -----  \n",
      " 0   Gender      20 non-null     object \n",
      " 1   Age         20 non-null     int64  \n",
      " 2   Height      20 non-null     int64  \n",
      " 3   Weight      20 non-null     int64  \n",
      " 4   Duration    20 non-null     int64  \n",
      " 5   Heart_Rate  20 non-null     int64  \n",
      " 6   Body_Temp   20 non-null     float64\n",
      " 7   Calories    20 non-null     int64  \n",
      "dtypes: float64(1), int64(6), object(1)\n",
      "memory usage: 1.4+ KB\n",
      "None\n",
      "             Age      Height     Weight   Duration  Heart_Rate  Body_Temp  \\\n",
      "count  20.000000   20.000000  20.000000  20.000000    20.00000  20.000000   \n",
      "mean   32.000000  170.300000  69.600000  37.500000   100.75000  36.970000   \n",
      "std     6.366028    8.897664  13.523469  14.823523     7.49649   0.307964   \n",
      "min    22.000000  158.000000  50.000000  15.000000    88.00000  36.500000   \n",
      "25%    26.750000  161.750000  57.750000  25.000000    95.75000  36.775000   \n",
      "50%    32.000000  170.000000  69.000000  35.000000    99.50000  36.900000   \n",
      "75%    37.250000  178.250000  82.500000  50.000000   106.25000  37.125000   \n",
      "max    42.000000  185.000000  90.000000  60.000000   115.00000  37.600000   \n",
      "\n",
      "         Calories  \n",
      "count   20.000000  \n",
      "mean   235.000000  \n",
      "std     93.273791  \n",
      "min    100.000000  \n",
      "25%    165.000000  \n",
      "50%    215.000000  \n",
      "75%    302.500000  \n",
      "max    410.000000  \n"
     ]
    }
   ],
   "source": [
    "import pandas as pd\n",
    "\n",
    "df = pd.read_csv('data/calories.csv')\n",
    "\n",
    "# Quick check\n",
    "print(df.head())\n",
    "print(df.info())\n",
    "print(df.describe())"
   ]
  },
  {
   "cell_type": "code",
   "execution_count": null,
   "id": "d687e10e-e8c6-4620-9f82-f5cf30d6c4ef",
   "metadata": {},
   "outputs": [],
   "source": []
  },
  {
   "cell_type": "code",
   "execution_count": 12,
   "id": "64f56ad6-e753-46d3-9b4f-7ea1175601c8",
   "metadata": {},
   "outputs": [],
   "source": [
    "# Convert 'Gender' to numeric: female = 1, male = 0\n",
    "df['Gender'] = df['Gender'].map({'female': 1, 'male': 0})\n",
    "\n",
    "# Define features (X) and target (y)\n",
    "X = df.drop('Calories', axis=1)\n",
    "y = df['Calories']"
   ]
  },
  {
   "cell_type": "code",
   "execution_count": 13,
   "id": "9d5162ab-a882-40fb-8cda-5b1a8f0f961f",
   "metadata": {},
   "outputs": [
    {
     "name": "stdout",
     "output_type": "stream",
     "text": [
      "['Gender', 'Age', 'Height', 'Weight', 'Duration', 'Heart_Rate', 'Body_Temp', 'Calories']\n"
     ]
    }
   ],
   "source": [
    "print(df.columns.tolist())"
   ]
  },
  {
   "cell_type": "code",
   "execution_count": 5,
   "id": "d761e211-f44a-44c0-a9ee-5f93f4040ad3",
   "metadata": {},
   "outputs": [],
   "source": [
    "df.columns = df.columns.str.strip()"
   ]
  },
  {
   "cell_type": "code",
   "execution_count": 14,
   "id": "bb45a522-ee5f-4fcd-a960-b358a7dc2405",
   "metadata": {},
   "outputs": [],
   "source": [
    "df['Gender'] = df['Gender'].map({'female': 1, 'male': 0})"
   ]
  },
  {
   "cell_type": "code",
   "execution_count": 7,
   "id": "10531a90-d4a3-463b-b1ef-a9e42868900e",
   "metadata": {},
   "outputs": [
    {
     "name": "stdout",
     "output_type": "stream",
     "text": [
      "  Gender,Age,Height,Weight,Duration,Heart_Rate,Body_Temp,Calories\n",
      "0                female,26,167.0,55.0,30,98,36.5,130             \n",
      "1                 male,28,175.0,70.0,45,102,37.1,250             \n",
      "2               female,35,160.0,60.0,60,110,37.4,330             \n",
      "3                  male,42,180.0,85.0,20,88,36.7,170             \n",
      "4                female,23,158.0,50.0,15,95,36.9,100             \n"
     ]
    }
   ],
   "source": [
    "print(df.head())"
   ]
  },
  {
   "cell_type": "code",
   "execution_count": 8,
   "id": "07c7aea0-6a6c-48ac-8a1b-50be21875e29",
   "metadata": {},
   "outputs": [
    {
     "name": "stdout",
     "output_type": "stream",
     "text": [
      "['Gender,Age,Height,Weight,Duration,Heart_Rate,Body_Temp,Calories']\n"
     ]
    }
   ],
   "source": [
    "print(df.columns.tolist())"
   ]
  },
  {
   "cell_type": "code",
   "execution_count": 15,
   "id": "8009cb5c-87b5-447d-8344-c7fe6aed2ca3",
   "metadata": {},
   "outputs": [],
   "source": [
    "from sklearn.model_selection import train_test_split\n",
    "\n",
    "# Define features and target\n",
    "X = df.drop('Calories', axis=1)\n",
    "y = df['Calories']\n",
    "\n",
    "# Split data: 80% train, 20% test\n",
    "X_train, X_test, y_train, y_test = train_test_split(X, y, test_size=0.2, random_state=42)"
   ]
  },
  {
   "cell_type": "code",
   "execution_count": 3,
   "id": "f047608e-b44d-4156-8ecd-b57e6476800f",
   "metadata": {},
   "outputs": [
    {
     "ename": "NameError",
     "evalue": "name 'X_train' is not defined",
     "output_type": "error",
     "traceback": [
      "\u001b[31m---------------------------------------------------------------------------\u001b[39m",
      "\u001b[31mNameError\u001b[39m                                 Traceback (most recent call last)",
      "\u001b[36mCell\u001b[39m\u001b[36m \u001b[39m\u001b[32mIn[3]\u001b[39m\u001b[32m, line 5\u001b[39m\n\u001b[32m      2\u001b[39m \u001b[38;5;28;01mfrom\u001b[39;00m\u001b[38;5;250m \u001b[39m\u001b[34;01msklearn\u001b[39;00m\u001b[34;01m.\u001b[39;00m\u001b[34;01mmetrics\u001b[39;00m\u001b[38;5;250m \u001b[39m\u001b[38;5;28;01mimport\u001b[39;00m mean_squared_error, r2_score\n\u001b[32m      4\u001b[39m lr_model = LinearRegression()\n\u001b[32m----> \u001b[39m\u001b[32m5\u001b[39m lr_model.fit(\u001b[43mX_train\u001b[49m, y_train)\n\u001b[32m      7\u001b[39m y_pred_lr = lr_model.predict(X_test)\n\u001b[32m      9\u001b[39m \u001b[38;5;28mprint\u001b[39m(\u001b[33m\"\u001b[39m\u001b[33m🔹 Linear Regression Results:\u001b[39m\u001b[33m\"\u001b[39m)\n",
      "\u001b[31mNameError\u001b[39m: name 'X_train' is not defined"
     ]
    }
   ],
   "source": [
    "from sklearn.linear_model import LinearRegression\n",
    "from sklearn.metrics import mean_squared_error, r2_score\n",
    "\n",
    "lr_model = LinearRegression()\n",
    "lr_model.fit(X_train, y_train)\n",
    "\n",
    "y_pred_lr = lr_model.predict(X_test)\n",
    "\n",
    "print(\"🔹 Linear Regression Results:\")\n",
    "print(\"MSE:\", mean_squared_error(y_test, y_pred_lr))\n",
    "print(\"R²:\", r2_score(y_test, y_pred_lr))"
   ]
  },
  {
   "cell_type": "code",
   "execution_count": 17,
   "id": "14a8bfb2-3611-45ee-ba7a-d1f6a9cb19e5",
   "metadata": {},
   "outputs": [
    {
     "name": "stdout",
     "output_type": "stream",
     "text": [
      "Gender        20\n",
      "Age            0\n",
      "Height         0\n",
      "Weight         0\n",
      "Duration       0\n",
      "Heart_Rate     0\n",
      "Body_Temp      0\n",
      "Calories       0\n",
      "dtype: int64\n"
     ]
    }
   ],
   "source": [
    "print(df.isnull().sum())"
   ]
  },
  {
   "cell_type": "code",
   "execution_count": 18,
   "id": "d658f456-c9f2-4edb-a767-8a8ce3cb2134",
   "metadata": {},
   "outputs": [],
   "source": [
    "df = df.dropna()"
   ]
  },
  {
   "cell_type": "code",
   "execution_count": 19,
   "id": "f235b2d2-8369-4d5f-8817-f91eb0a59434",
   "metadata": {},
   "outputs": [],
   "source": [
    "df = df.fillna(df.mean(numeric_only=True))"
   ]
  },
  {
   "cell_type": "code",
   "execution_count": 20,
   "id": "ddb973fa-c090-4dce-a045-1ee1e42e594b",
   "metadata": {},
   "outputs": [],
   "source": [
    "X = df.drop('Calories', axis=1)\n",
    "y = df['Calories']"
   ]
  },
  {
   "cell_type": "code",
   "execution_count": 2,
   "id": "2b29994a-1bc4-4142-ad1d-f2ba0ebd3aa1",
   "metadata": {},
   "outputs": [
    {
     "ename": "NameError",
     "evalue": "name 'X' is not defined",
     "output_type": "error",
     "traceback": [
      "\u001b[31m---------------------------------------------------------------------------\u001b[39m",
      "\u001b[31mNameError\u001b[39m                                 Traceback (most recent call last)",
      "\u001b[36mCell\u001b[39m\u001b[36m \u001b[39m\u001b[32mIn[2]\u001b[39m\u001b[32m, line 3\u001b[39m\n\u001b[32m      1\u001b[39m \u001b[38;5;28;01mfrom\u001b[39;00m\u001b[38;5;250m \u001b[39m\u001b[34;01msklearn\u001b[39;00m\u001b[34;01m.\u001b[39;00m\u001b[34;01mmodel_selection\u001b[39;00m\u001b[38;5;250m \u001b[39m\u001b[38;5;28;01mimport\u001b[39;00m train_test_split\n\u001b[32m----> \u001b[39m\u001b[32m3\u001b[39m X_train, X_test, y_train, y_test = train_test_split(\u001b[43mX\u001b[49m, y, test_size=\u001b[32m0.2\u001b[39m, random_state=\u001b[32m42\u001b[39m)\n",
      "\u001b[31mNameError\u001b[39m: name 'X' is not defined"
     ]
    }
   ],
   "source": [
    "from sklearn.model_selection import train_test_split\n",
    "\n",
    "X_train, X_test, y_train, y_test = train_test_split(X, y, test_size=0.2, random_state=42)"
   ]
  },
  {
   "cell_type": "code",
   "execution_count": 22,
   "id": "fbf70363-241a-421a-a0ac-ec880c325179",
   "metadata": {},
   "outputs": [
    {
     "name": "stdout",
     "output_type": "stream",
     "text": [
      "(0, 8)\n",
      "Empty DataFrame\n",
      "Columns: [Gender, Age, Height, Weight, Duration, Heart_Rate, Body_Temp, Calories]\n",
      "Index: []\n"
     ]
    }
   ],
   "source": [
    "print(df.shape)\n",
    "print(df.head())"
   ]
  },
  {
   "cell_type": "code",
   "execution_count": 23,
   "id": "89756ba1-096a-4162-a511-446b90a336d5",
   "metadata": {},
   "outputs": [
    {
     "data": {
      "text/plain": [
       "(20, 8)"
      ]
     },
     "execution_count": 23,
     "metadata": {},
     "output_type": "execute_result"
    }
   ],
   "source": [
    "(20, 8)  # 20 rows, 8 columns"
   ]
  },
  {
   "cell_type": "code",
   "execution_count": 24,
   "id": "085a19d3-724f-40ac-8cf2-e0ab66e388e0",
   "metadata": {},
   "outputs": [],
   "source": [
    "df = pd.read_csv('data/calories.csv')\n",
    "df.columns = df.columns.str.strip()"
   ]
  },
  {
   "cell_type": "code",
   "execution_count": 25,
   "id": "c6368f40-f328-4178-9edc-b5ebb6be741c",
   "metadata": {},
   "outputs": [
    {
     "name": "stdout",
     "output_type": "stream",
     "text": [
      "(20, 8)\n"
     ]
    }
   ],
   "source": [
    "print(df.shape)"
   ]
  },
  {
   "cell_type": "code",
   "execution_count": 26,
   "id": "2e0be4cb-a552-48a5-9611-a3b2252cdaa4",
   "metadata": {},
   "outputs": [
    {
     "name": "stdout",
     "output_type": "stream",
     "text": [
      "Gender        0\n",
      "Age           0\n",
      "Height        0\n",
      "Weight        0\n",
      "Duration      0\n",
      "Heart_Rate    0\n",
      "Body_Temp     0\n",
      "Calories      0\n",
      "dtype: int64\n"
     ]
    }
   ],
   "source": [
    "print(df.isnull().sum())"
   ]
  },
  {
   "cell_type": "code",
   "execution_count": 27,
   "id": "bb349daa-d89f-4b08-abe9-70b7e170ada4",
   "metadata": {},
   "outputs": [],
   "source": [
    "df = df.fillna(df.mean(numeric_only=True))  # Safer"
   ]
  },
  {
   "cell_type": "code",
   "execution_count": 28,
   "id": "78e7ee5a-6f16-4f5d-9393-8c26b07ab40d",
   "metadata": {},
   "outputs": [
    {
     "name": "stdout",
     "output_type": "stream",
     "text": [
      "(20, 8)\n"
     ]
    }
   ],
   "source": [
    "print(df.shape)"
   ]
  },
  {
   "cell_type": "code",
   "execution_count": 29,
   "id": "45997f53-1378-4c78-a9f0-5bd1555c8ed1",
   "metadata": {},
   "outputs": [
    {
     "name": "stdout",
     "output_type": "stream",
     "text": [
      "(16, 7) (4, 7)\n"
     ]
    }
   ],
   "source": [
    "X = df.drop('Calories', axis=1)\n",
    "y = df['Calories']\n",
    "\n",
    "from sklearn.model_selection import train_test_split\n",
    "X_train, X_test, y_train, y_test = train_test_split(X, y, test_size=0.2, random_state=42)\n",
    "\n",
    "print(X_train.shape, X_test.shape)"
   ]
  },
  {
   "cell_type": "code",
   "execution_count": 30,
   "id": "054e61ba-1ae0-4f2f-aa08-b20d8c30716f",
   "metadata": {},
   "outputs": [],
   "source": [
    "# Gender should already be numeric. If not, map again:\n",
    "df['Gender'] = df['Gender'].map({'female': 1, 'male': 0})\n",
    "\n",
    "# Define features and target\n",
    "X = df.drop('Calories', axis=1)\n",
    "y = df['Calories']"
   ]
  },
  {
   "cell_type": "code",
   "execution_count": 32,
   "id": "9fd07f6b-24d3-4843-88a8-add3afa778fc",
   "metadata": {},
   "outputs": [
    {
     "name": "stdout",
     "output_type": "stream",
     "text": [
      "Train shape: (16, 7)\n",
      "Test shape: (4, 7)\n"
     ]
    }
   ],
   "source": [
    "from sklearn.model_selection import train_test_split\n",
    "\n",
    "# Split 80% training, 20% testing\n",
    "X_train, X_test, y_train, y_test = train_test_split(\n",
    "    X, y, test_size=0.2, random_state=42\n",
    ")\n",
    "\n",
    "# Confirm the shape\n",
    "print(\"Train shape:\", X_train.shape)\n",
    "print(\"Test shape:\", X_test.shape)"
   ]
  },
  {
   "cell_type": "code",
   "execution_count": 33,
   "id": "2a9d3eec-7869-46c1-8ace-51985687b8bd",
   "metadata": {},
   "outputs": [
    {
     "name": "stdout",
     "output_type": "stream",
     "text": [
      "MSE: 1594.7825000000007\n",
      "R² Score: 0.8439356574923547\n"
     ]
    }
   ],
   "source": [
    "from sklearn.ensemble import RandomForestRegressor\n",
    "from sklearn.metrics import mean_squared_error, r2_score\n",
    "\n",
    "model = RandomForestRegressor(random_state=42)\n",
    "model.fit(X_train, y_train)\n",
    "\n",
    "y_pred = model.predict(X_test)\n",
    "\n",
    "print(\"MSE:\", mean_squared_error(y_test, y_pred))\n",
    "print(\"R² Score:\", r2_score(y_test, y_pred))"
   ]
  },
  {
   "cell_type": "code",
   "execution_count": 9,
   "id": "4fbeca96-92e8-43a5-987c-f7c6f580d746",
   "metadata": {},
   "outputs": [],
   "source": [
    "import os\n",
    "os.makedirs(\"src\", exist_ok=True)"
   ]
  },
  {
   "cell_type": "code",
   "execution_count": 10,
   "id": "cdf79361-5ef3-4e26-aa90-f44c64cb8869",
   "metadata": {},
   "outputs": [
    {
     "data": {
      "text/plain": [
       "['src/calorie_model.joblib']"
      ]
     },
     "execution_count": 10,
     "metadata": {},
     "output_type": "execute_result"
    }
   ],
   "source": [
    "import joblib\n",
    "joblib.dump(lr_model, 'src/calorie_model.joblib')"
   ]
  },
  {
   "cell_type": "code",
   "execution_count": null,
   "id": "8e60e3f4-8cb9-4f1e-93cf-4fca19ae0fa1",
   "metadata": {},
   "outputs": [],
   "source": []
  }
 ],
 "metadata": {
  "kernelspec": {
   "display_name": "Python (calorie-env)",
   "language": "python",
   "name": "calorie-env"
  },
  "language_info": {
   "codemirror_mode": {
    "name": "ipython",
    "version": 3
   },
   "file_extension": ".py",
   "mimetype": "text/x-python",
   "name": "python",
   "nbconvert_exporter": "python",
   "pygments_lexer": "ipython3",
   "version": "3.11.13"
  }
 },
 "nbformat": 4,
 "nbformat_minor": 5
}
